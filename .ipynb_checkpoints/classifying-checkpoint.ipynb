{
 "cells": [
  {
   "cell_type": "code",
   "execution_count": 1,
   "metadata": {
    "colab": {},
    "colab_type": "code",
    "id": "dPc4yj6In-aG"
   },
   "outputs": [
    {
     "name": "stderr",
     "output_type": "stream",
     "text": [
      "c:\\users\\yuri7\\appdata\\local\\programs\\python\\python37\\lib\\site-packages\\librosa\\util\\decorators.py:9: NumbaDeprecationWarning: \u001b[1mAn import was requested from a module that has moved location.\n",
      "Import requested from: 'numba.decorators', please update to use 'numba.core.decorators' or pin to Numba version 0.48.0. This alias will not be present in Numba version 0.50.0.\u001b[0m\n",
      "  from numba.decorators import jit as optional_jit\n",
      "c:\\users\\yuri7\\appdata\\local\\programs\\python\\python37\\lib\\site-packages\\librosa\\util\\decorators.py:9: NumbaDeprecationWarning: \u001b[1mAn import was requested from a module that has moved location.\n",
      "Import of 'jit' requested from: 'numba.decorators', please update to use 'numba.core.decorators' or pin to Numba version 0.48.0. This alias will not be present in Numba version 0.50.0.\u001b[0m\n",
      "  from numba.decorators import jit as optional_jit\n"
     ]
    }
   ],
   "source": [
    "import os\n",
    "import librosa   #for audio processing\n",
    "import matplotlib.pyplot as plt\n",
    "import numpy as np\n",
    "from scipy.io import wavfile #for audio processing\n",
    "from matplotlib import pyplot\n",
    "import warnings\n",
    "warnings.filterwarnings(\"ignore\")"
   ]
  },
  {
   "cell_type": "code",
   "execution_count": null,
   "metadata": {
    "colab": {
     "base_uri": "https://localhost:8080/",
     "height": 34
    },
    "colab_type": "code",
    "id": "KLBRJlcUoDcM",
    "outputId": "3406e14e-24cb-43ce-e7ec-5c46d58324d0"
   },
   "outputs": [],
   "source": [
    "# get clone for achieving dataset\n",
    "!git clone https://github.com/ym769/AudioProcessing.git"
   ]
  },
  {
   "cell_type": "code",
   "execution_count": null,
   "metadata": {
    "colab": {
     "base_uri": "https://localhost:8080/",
     "height": 530
    },
    "colab_type": "code",
    "id": "go0mFfVtn-aJ",
    "outputId": "3d149556-3e6b-41ee-b82d-51088c646119"
   },
   "outputs": [],
   "source": [
    "# plotting a sound sample of \"bird\" (Time domain)\n",
    "train_audio_path = 'AudioProcessing/train/audio/'\n",
    "samples, sample_rate = librosa.load(train_audio_path+'bird/01bcfc0c_nohash_0.wav', sr=16000) # sample rate = sr\n",
    "fig = plt.figure(figsize=(14, 8))\n",
    "ax1 = fig.add_subplot(111)\n",
    "ax1.set_title('Raw wave of ' + 'train/audio/bird/01bcfc0c_nohash_0.wav',color=\"white\")\n",
    "ax1.set_xlabel('time',color=\"white\")\n",
    "ax1.set_ylabel('Amplitude',color=\"white\")\n",
    "ax1.plot(np.linspace(0, sample_rate/len(samples), sample_rate), samples)"
   ]
  },
  {
   "cell_type": "code",
   "execution_count": null,
   "metadata": {
    "colab": {
     "base_uri": "https://localhost:8080/",
     "height": 530
    },
    "colab_type": "code",
    "id": "WMqu3skCn-aL",
    "outputId": "ff145071-6880-4f56-ab7e-69a0a8d75b90"
   },
   "outputs": [],
   "source": [
    "# plotting a sound sample of \"cat\" (Time domain)\n",
    "train_audio_path = 'AudioProcessing/train/audio/'\n",
    "samples, sample_rate = librosa.load(train_audio_path+'cat/004ae714_nohash_0.wav', sr=16000) # sample rate = sr\n",
    "fig = plt.figure(figsize=(14, 8))\n",
    "ax1 = fig.add_subplot(111)\n",
    "ax1.set_title('Raw wave of ' + '00b01445_nohash_0.wav',color=\"white\")\n",
    "ax1.set_xlabel('time',color=\"white\")\n",
    "ax1.set_ylabel('Amplitude',color=\"white\")\n",
    "ax1.plot(np.linspace(0, sample_rate/len(samples), sample_rate), samples)"
   ]
  },
  {
   "cell_type": "code",
   "execution_count": null,
   "metadata": {
    "colab": {
     "base_uri": "https://localhost:8080/",
     "height": 70
    },
    "colab_type": "code",
    "id": "A-xpK_Eln-aN",
    "outputId": "c913b819-1fb0-4893-a2b6-e18bbf5b30fd"
   },
   "outputs": [],
   "source": [
    "# 上で取得した \"cat\" (004ae714_nohash_0.wav) のsample, which have gotten as an array with 16000 numbers.\n",
    "print(samples)\n",
    "len(samples)"
   ]
  },
  {
   "cell_type": "code",
   "execution_count": null,
   "metadata": {
    "colab": {
     "base_uri": "https://localhost:8080/",
     "height": 70
    },
    "colab_type": "code",
    "id": "Fja8gxIEs_K1",
    "outputId": "1958a11b-7078-442d-d27d-d70154631676"
   },
   "outputs": [],
   "source": [
    "samples = librosa.resample(samples, sample_rate, 8000) # resample\n",
    "print(samples)\n",
    "len(samples)"
   ]
  },
  {
   "cell_type": "code",
   "execution_count": null,
   "metadata": {
    "colab": {},
    "colab_type": "code",
    "id": "jV7vU1tnn-aP"
   },
   "outputs": [],
   "source": [
    "# Now we correct all samples from directry \"train/audio\"\n",
    "# it takes time.\n",
    "train_audio_path = 'AudioProcessing/train/audio/'\n",
    "labels = [\"bird\",\"cat\",\"happy\"]\n",
    "\n",
    "all_wave = [] # list for sampling arrays\n",
    "all_label = [] # list for their each labels\n",
    "for label in labels:\n",
    "    waves = [f for f in os.listdir(train_audio_path + '/'+ label) if f.endswith('.wav')] # list of wavfiles\n",
    "    for wav in waves:\n",
    "        samples, sample_rate = librosa.load(train_audio_path + '/' + label + '/' + wav, sr = 8000) # open wavfile\n",
    "        if (len(samples)== 8000) : \n",
    "            all_wave.append(samples)\n",
    "            all_label.append(label)"
   ]
  },
  {
   "cell_type": "code",
   "execution_count": null,
   "metadata": {
    "colab": {
     "base_uri": "https://localhost:8080/",
     "height": 140
    },
    "colab_type": "code",
    "id": "ze43wH7pn-aR",
    "outputId": "d300e6c3-29cd-4c82-bb60-13df0bf10f11"
   },
   "outputs": [],
   "source": [
    "print(all_label[:5]) # all_labelには正解ラベルが格納されている\n",
    "print(all_wave[:5])"
   ]
  },
  {
   "cell_type": "code",
   "execution_count": null,
   "metadata": {
    "colab": {
     "base_uri": "https://localhost:8080/",
     "height": 298
    },
    "colab_type": "code",
    "id": "Tb-8L00nn-aT",
    "outputId": "d3e92b5f-cfde-44e5-d568-1f342aec2409"
   },
   "outputs": [],
   "source": [
    "# Convert the output labels to integer encoded: 1 for \"cat\" and 0 for \"bird\"\n",
    "from sklearn.preprocessing import LabelEncoder\n",
    "le = LabelEncoder()\n",
    "y=le.fit_transform(all_label)\n",
    "classes= list(le.classes_)\n",
    "y"
   ]
  },
  {
   "cell_type": "code",
   "execution_count": null,
   "metadata": {
    "colab": {
     "base_uri": "https://localhost:8080/",
     "height": 34
    },
    "colab_type": "code",
    "id": "gCWFiAaLn-aW",
    "outputId": "287765b5-39d0-405b-cef1-688a8bdfe719"
   },
   "outputs": [],
   "source": [
    "# convert the integer labels to a one-hot vector since it is a multi-classification problem:\n",
    "from keras.utils import np_utils\n",
    "y=np_utils.to_categorical(y, num_classes=len(labels))"
   ]
  },
  {
   "cell_type": "code",
   "execution_count": null,
   "metadata": {
    "colab": {
     "base_uri": "https://localhost:8080/",
     "height": 52
    },
    "colab_type": "code",
    "id": "kMfW2N73n-aX",
    "outputId": "37da1e48-5ef0-48f6-9f1d-8e2f6fb2fbc6"
   },
   "outputs": [],
   "source": [
    "print(y[0]) # label for the first sampling array\n",
    "print(y[300]) # label for the 299th sampling array"
   ]
  },
  {
   "cell_type": "code",
   "execution_count": null,
   "metadata": {
    "colab": {},
    "colab_type": "code",
    "id": "Fg_9XsW2n-aZ"
   },
   "outputs": [],
   "source": [
    "# conv1dへの入力は3D配列でなければならないため、2D配列を3Dに再形成します\n",
    "all_wave = np.array(all_wave).reshape(-1,8000,1)"
   ]
  },
  {
   "cell_type": "code",
   "execution_count": null,
   "metadata": {
    "colab": {},
    "colab_type": "code",
    "id": "Jkf4hUdnn-ab"
   },
   "outputs": [],
   "source": [
    "from sklearn.model_selection import train_test_split\n",
    "x_tr, x_val, y_tr, y_val = train_test_split(np.array(all_wave),np.array(y),stratify=y,test_size = 0.2,shuffle=True)"
   ]
  },
  {
   "cell_type": "code",
   "execution_count": null,
   "metadata": {
    "colab": {
     "base_uri": "https://localhost:8080/",
     "height": 474
    },
    "colab_type": "code",
    "id": "VFVNlduFn-ad",
    "outputId": "53f4fa86-2933-49e7-f2ae-253ce5bcdb88"
   },
   "outputs": [],
   "source": [
    "print(y_tr[:3])\n",
    "x_tr[:3]"
   ]
  },
  {
   "cell_type": "code",
   "execution_count": null,
   "metadata": {
    "colab": {
     "base_uri": "https://localhost:8080/",
     "height": 474
    },
    "colab_type": "code",
    "id": "2aGOyiVJn-ae",
    "outputId": "1bd1ae79-47f6-4734-86cd-554500dcb017"
   },
   "outputs": [],
   "source": [
    "print(y_val[:3])\n",
    "x_val[:3]"
   ]
  },
  {
   "cell_type": "code",
   "execution_count": null,
   "metadata": {
    "colab": {
     "base_uri": "https://localhost:8080/",
     "height": 545
    },
    "colab_type": "code",
    "id": "T1xczetOn-ag",
    "outputId": "927b6a4e-e0e9-4d68-d444-2e91c09c8ddc"
   },
   "outputs": [],
   "source": [
    "from keras.layers import Dense, Dropout, Flatten, Conv1D, Input, MaxPooling1D\n",
    "from keras.models import Model\n",
    "from keras.callbacks import EarlyStopping, ModelCheckpoint\n",
    "from keras import backend as K\n",
    "K.clear_session()\n",
    "\n",
    "inputs = Input(shape=(8000,1))\n",
    "\n",
    "#First Conv1D layer\n",
    "conv = Conv1D(8,13, padding='valid', activation='relu', strides=1)(inputs) # \n",
    "conv = MaxPooling1D(3)(conv)\n",
    "conv = Dropout(0.3)(conv)\n",
    "\n",
    "#Second Conv1D layer\n",
    "conv = Conv1D(16, 11, padding='valid', activation='relu', strides=1)(conv)\n",
    "conv = MaxPooling1D(3)(conv)\n",
    "conv = Dropout(0.3)(conv)\n",
    "\n",
    "#Flatten layer\n",
    "conv = Flatten()(conv)\n",
    "\n",
    "#Dense Layer 1\n",
    "conv = Dense(256, activation='relu')(conv)\n",
    "conv = Dropout(0.3)(conv)\n",
    "\n",
    "outputs = Dense(len(labels), activation='softmax')(conv)\n",
    "\n",
    "model = Model(inputs, outputs)\n",
    "model.summary()"
   ]
  },
  {
   "cell_type": "code",
   "execution_count": null,
   "metadata": {
    "colab": {},
    "colab_type": "code",
    "id": "Ii3h8Mvkn-ai"
   },
   "outputs": [],
   "source": [
    "model.compile(loss='categorical_crossentropy',optimizer='adam',metrics=['accuracy']) # loss function, opnimizer, metricsを定義"
   ]
  },
  {
   "cell_type": "code",
   "execution_count": null,
   "metadata": {
    "colab": {},
    "colab_type": "code",
    "id": "z3Q9pp4-n-ak"
   },
   "outputs": [],
   "source": [
    "es = EarlyStopping(monitor='val_loss', mode='min', verbose=1, patience=10, min_delta=0.0001) \n",
    "mc = ModelCheckpoint('best_model.hdf5', monitor='val_acc', verbose=1, save_best_only=True, mode='max')"
   ]
  },
  {
   "cell_type": "code",
   "execution_count": null,
   "metadata": {
    "colab": {
     "base_uri": "https://localhost:8080/",
     "height": 386
    },
    "colab_type": "code",
    "id": "OCcKkAiXn-al",
    "outputId": "bfa94864-20c8-4060-f4c9-7ea7c15fb4fe"
   },
   "outputs": [],
   "source": [
    "history=model.fit(x_tr, y_tr ,epochs=10, callbacks=[es,mc], batch_size=32, validation_data=(x_val,y_val))"
   ]
  },
  {
   "cell_type": "code",
   "execution_count": null,
   "metadata": {
    "colab": {
     "base_uri": "https://localhost:8080/",
     "height": 265
    },
    "colab_type": "code",
    "id": "S-NCNkQln-ao",
    "outputId": "cd8e01e4-077e-461a-a4cd-3cb02799f240"
   },
   "outputs": [],
   "source": [
    "pyplot.plot(history.history['loss'], label='train') \n",
    "pyplot.plot(history.history['val_loss'], label='valid') \n",
    "pyplot.legend() \n",
    "pyplot.show()"
   ]
  },
  {
   "cell_type": "code",
   "execution_count": null,
   "metadata": {
    "colab": {},
    "colab_type": "code",
    "id": "MaprffZAn-aq"
   },
   "outputs": [],
   "source": [
    "def predict(audio):\n",
    "    prob=model.predict(audio.reshape(1,8000,1))\n",
    "    index=np.argmax(prob[0])\n",
    "    return classes[index]"
   ]
  },
  {
   "cell_type": "code",
   "execution_count": null,
   "metadata": {
    "colab": {
     "base_uri": "https://localhost:8080/",
     "height": 52
    },
    "colab_type": "code",
    "id": "BYnYmHLkn-as",
    "outputId": "d24948bf-1de6-442e-800e-230598b84c02"
   },
   "outputs": [],
   "source": [
    "import random\n",
    "index=random.randint(0,len(x_val)-1)\n",
    "samples=x_val[index].ravel()\n",
    "print(\"Audio:\",classes[np.argmax(y_val[index])])\n",
    "print(\"Text:\",predict(samples))"
   ]
  },
  {
   "cell_type": "code",
   "execution_count": null,
   "metadata": {
    "colab": {},
    "colab_type": "code",
    "id": "9U-BgELKn-au"
   },
   "outputs": [],
   "source": []
  }
 ],
 "metadata": {
  "colab": {
   "name": "classifying.ipynb",
   "provenance": []
  },
  "kernelspec": {
   "display_name": "Python 3",
   "language": "python",
   "name": "python3"
  },
  "language_info": {
   "codemirror_mode": {
    "name": "ipython",
    "version": 3
   },
   "file_extension": ".py",
   "mimetype": "text/x-python",
   "name": "python",
   "nbconvert_exporter": "python",
   "pygments_lexer": "ipython3",
   "version": "3.7.3"
  }
 },
 "nbformat": 4,
 "nbformat_minor": 1
}
